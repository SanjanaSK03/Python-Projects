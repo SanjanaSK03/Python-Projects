{
 "cells": [
  {
   "cell_type": "code",
   "execution_count": null,
   "id": "5f74bbd6",
   "metadata": {},
   "outputs": [],
   "source": [
    "from random import shuffle"
   ]
  },
  {
   "cell_type": "code",
   "execution_count": null,
   "id": "781d4298",
   "metadata": {},
   "outputs": [],
   "source": [
    "def shuffle_list(my_list):\n",
    "    shuffle(my_list)\n",
    "    return my_list"
   ]
  },
  {
   "cell_type": "code",
   "execution_count": null,
   "id": "998fd7dc",
   "metadata": {},
   "outputs": [],
   "source": [
    "def player_guess():\n",
    "    guess=''\n",
    "    while guess not in ['1','0','2']:\n",
    "        guess=input(\"Pick a number from 0,1 or 2\")\n",
    "        \n",
    "    return int(guess)"
   ]
  },
  {
   "cell_type": "code",
   "execution_count": null,
   "id": "f1625a98",
   "metadata": {},
   "outputs": [],
   "source": [
    "def check_guess(my_list,guess):\n",
    "    if my_list[guess]=='O':\n",
    "        print(\"Yayy!! It's correct.\")\n",
    "    else:\n",
    "        print(\"Oops!! Wrong Guess.\")\n",
    "        print(my_list)"
   ]
  },
  {
   "cell_type": "code",
   "execution_count": null,
   "id": "2c2513fe",
   "metadata": {},
   "outputs": [],
   "source": [
    "# Initial List\n",
    "my_list=['O','','']\n",
    "\n",
    "# Shuffle List\n",
    "mixedup_list=shuffle_list(my_list)\n",
    "\n",
    "# User Guess\n",
    "\n",
    "guess=player_guess()\n",
    "\n",
    "# Check Guess\n",
    "check_guess(mixedup_list,guess)"
   ]
  },
  {
   "cell_type": "code",
   "execution_count": null,
   "id": "031e7307",
   "metadata": {},
   "outputs": [],
   "source": []
  },
  {
   "cell_type": "code",
   "execution_count": null,
   "id": "4af3c908",
   "metadata": {},
   "outputs": [],
   "source": []
  }
 ],
 "metadata": {
  "kernelspec": {
   "display_name": "Python 3 (ipykernel)",
   "language": "python",
   "name": "python3"
  },
  "language_info": {
   "codemirror_mode": {
    "name": "ipython",
    "version": 3
   },
   "file_extension": ".py",
   "mimetype": "text/x-python",
   "name": "python",
   "nbconvert_exporter": "python",
   "pygments_lexer": "ipython3",
   "version": "3.11.4"
  }
 },
 "nbformat": 4,
 "nbformat_minor": 5
}
